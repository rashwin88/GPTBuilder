{
 "cells": [
  {
   "cell_type": "markdown",
   "metadata": {},
   "source": [
    "Here we simply demonstrate the data preparation process and show how it functions. "
   ]
  },
  {
   "cell_type": "code",
   "execution_count": 2,
   "metadata": {},
   "outputs": [],
   "source": [
    "import sys\n",
    "sys.path.append('/Users/ashwinravi/Desktop/GPTBuilder')\n",
    "from data_loaders.data_loader_v1 import create_data_loader\n",
    "from namespaces.test_input_types import TextInputType\n",
    "\n",
    "# Choosing some generic text here.\n",
    "\n",
    "\n",
    "sample_text = \\\n",
    "    \"\"\"Bharat's scientific contributions made impact on noted scholars globally:  Aristotle, Megasthenes, and \n",
    "    Apollonius of Tyana among the Greeks; Al-Birūnī, Al Khwārizmī, Ibn Labbān, and Al-Uqlīdisī, Al-Jāḥiz among the Islamic scholars; \n",
    "    Fa Hien, Hiuen Tsang, and I-tsing among the Chinese; and Leonardo Fibbonacci, Pope  Sylvester II, Roger Bacon, Voltaire and Copernicus from Europe.  \n",
    "    In the modern era, thinkers and scientists as diverse as Ralph Waldo Emerson, Johann  Wolfgang von Goethe, \n",
    "    Johann Gottfried Herder, Carl Jung, Max Müller, Robert  Oppenheimer, Erwin Schrödinger, Arthur Schopenhauer, and Henry David Thoreau  \n",
    "    have acknowledged their debt to ancient Hindu achievements in science, technology,  and philosophy.\n",
    "\"\"\"\n",
    "data_loader = create_data_loader(\n",
    "    text_input_type=TextInputType.STRING,\n",
    "    text_input=sample_text,\n",
    "    max_length=10,\n",
    "    stride=5,\n",
    "    num_workers=2,\n",
    "    batch_size=4,\n",
    "    shuffle=False,\n",
    "    drop_last=True,\n",
    ")"
   ]
  },
  {
   "cell_type": "code",
   "execution_count": 6,
   "metadata": {},
   "outputs": [
    {
     "name": "stdout",
     "output_type": "stream",
     "text": [
      "<class 'list'>\n",
      "Input shape: torch.Size([4, 10])\n",
      "Target shape: torch.Size([4, 10])\n"
     ]
    }
   ],
   "source": [
    "# Create a generator to iterate over the data loader.\n",
    "# The data loader will return a list of two tensors, the input and the target.\n",
    "for batch in data_loader:\n",
    "    print(type(batch))\n",
    "    input, target = batch\n",
    "    print(f\"Input shape: {input.shape}\")\n",
    "    print(f\"Target shape: {target.shape}\")\n",
    "    break"
   ]
  }
 ],
 "metadata": {
  "kernelspec": {
   "display_name": "base",
   "language": "python",
   "name": "python3"
  },
  "language_info": {
   "codemirror_mode": {
    "name": "ipython",
    "version": 3
   },
   "file_extension": ".py",
   "mimetype": "text/x-python",
   "name": "python",
   "nbconvert_exporter": "python",
   "pygments_lexer": "ipython3",
   "version": "3.11.7"
  }
 },
 "nbformat": 4,
 "nbformat_minor": 2
}
